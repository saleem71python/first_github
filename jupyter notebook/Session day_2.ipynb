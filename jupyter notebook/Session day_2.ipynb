{
 "cells": [
  {
   "cell_type": "code",
   "execution_count": 1,
   "id": "b54d1659",
   "metadata": {},
   "outputs": [],
   "source": [
    "# body mass index (BMI)\n",
    "# Input weight\n",
    "# height\n",
    "# calculate BMI\n",
    "# Print BMI(my name isand my BMI is )"
   ]
  },
  {
   "cell_type": "code",
   "execution_count": 2,
   "id": "b1a37152",
   "metadata": {},
   "outputs": [],
   "source": [
    "# weight in kg/heightin meters and its squar"
   ]
  },
  {
   "cell_type": "code",
   "execution_count": 3,
   "id": "516a9bde",
   "metadata": {},
   "outputs": [
    {
     "name": "stdout",
     "output_type": "stream",
     "text": [
      "what is your height?1.68\n"
     ]
    }
   ],
   "source": [
    "height=input(\"what is your height?\")"
   ]
  },
  {
   "cell_type": "code",
   "execution_count": 4,
   "id": "2bc8902b",
   "metadata": {},
   "outputs": [],
   "source": [
    "height=float(height)"
   ]
  },
  {
   "cell_type": "code",
   "execution_count": 5,
   "id": "da4263c4",
   "metadata": {},
   "outputs": [
    {
     "name": "stdout",
     "output_type": "stream",
     "text": [
      "what is your weight?78\n"
     ]
    }
   ],
   "source": [
    "weight=input(\"what is your weight?\")"
   ]
  },
  {
   "cell_type": "code",
   "execution_count": 6,
   "id": "ce7ac064",
   "metadata": {},
   "outputs": [],
   "source": [
    "weight=float(weight)"
   ]
  },
  {
   "cell_type": "code",
   "execution_count": 7,
   "id": "767416ef",
   "metadata": {},
   "outputs": [
    {
     "name": "stdout",
     "output_type": "stream",
     "text": [
      "what is your name?saleem shakir\n"
     ]
    }
   ],
   "source": [
    "name= input(\"what is your name?\")"
   ]
  },
  {
   "cell_type": "code",
   "execution_count": 8,
   "id": "fe66d187",
   "metadata": {},
   "outputs": [
    {
     "data": {
      "text/plain": [
       "27.636054421768712"
      ]
     },
     "execution_count": 8,
     "metadata": {},
     "output_type": "execute_result"
    }
   ],
   "source": [
    "BMI=weight/height**2\n",
    "BMI"
   ]
  },
  {
   "cell_type": "code",
   "execution_count": 9,
   "id": "58b4b7ef",
   "metadata": {},
   "outputs": [
    {
     "name": "stdout",
     "output_type": "stream",
     "text": [
      "my name is saleem shakir and my BMI is 27.636054421768712\n"
     ]
    }
   ],
   "source": [
    "print(\"my name is\",name,\"and my BMI is\", BMI)"
   ]
  },
  {
   "cell_type": "code",
   "execution_count": null,
   "id": "491241d7",
   "metadata": {},
   "outputs": [],
   "source": []
  },
  {
   "cell_type": "code",
   "execution_count": null,
   "id": "6ae886eb",
   "metadata": {},
   "outputs": [],
   "source": []
  },
  {
   "cell_type": "code",
   "execution_count": null,
   "id": "b2e32995",
   "metadata": {},
   "outputs": [],
   "source": []
  },
  {
   "cell_type": "code",
   "execution_count": null,
   "id": "d4706f37",
   "metadata": {},
   "outputs": [],
   "source": []
  }
 ],
 "metadata": {
  "kernelspec": {
   "display_name": "Python 3 (ipykernel)",
   "language": "python",
   "name": "python3"
  },
  "language_info": {
   "codemirror_mode": {
    "name": "ipython",
    "version": 3
   },
   "file_extension": ".py",
   "mimetype": "text/x-python",
   "name": "python",
   "nbconvert_exporter": "python",
   "pygments_lexer": "ipython3",
   "version": "3.9.13"
  }
 },
 "nbformat": 4,
 "nbformat_minor": 5
}

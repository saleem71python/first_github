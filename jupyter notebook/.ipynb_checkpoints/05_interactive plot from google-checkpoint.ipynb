{
 "cells": [
  {
   "cell_type": "code",
   "execution_count": null,
   "id": "849f1c91",
   "metadata": {},
   "outputs": [],
   "source": [
    "# pip instal plotly\n",
    " \n",
    "import pip install plotly\n",
    "\n",
    "import plotly.exprss as px\n",
    "df=px.data.iris()\n",
    "fig=px.scatter(df,x=\"sepal_width\",y= \"sepal_lenght\",color=\"species\",marginal_y=\"violin\",\n",
    "               marginal_x=\"box\",trendline=\"olx\",template=\"simple_white\")\n",
    "fig.show()\n",
    "\n"
   ]
  },
  {
   "cell_type": "code",
   "execution_count": null,
   "id": "4c36ca53",
   "metadata": {},
   "outputs": [],
   "source": [
    "import seaborn as sns\n",
    "sns.set_theme()\n",
    "\n",
    "# Load the penguins dataset\n",
    "penguins = sns.load_dataset(\"penguins\")\n",
    "\n",
    "# Plot sepal width as a function of sepal_length across days\n",
    "g = sns.lmplot(\n",
    "    data=penguins,\n",
    "    x=\"bill_length_mm\", y=\"bill_depth_mm\", hue=\"species\",\n",
    "    height=5\n",
    ")\n",
    "\n",
    "# Use more informative axis labels than are provided by default\n",
    "g.set_axis_labels(\"Snoot length (mm)\", \"Snoot depth (mm)\")"
   ]
  },
  {
   "cell_type": "code",
   "execution_count": null,
   "id": "a60e9cc7",
   "metadata": {},
   "outputs": [],
   "source": [
    "import plotly.io as pio\n",
    "\n",
    "subject = ['Moe','Larry','Curly','Moe','Larry','Curly','Moe','Larry','Curly','Moe','Larry','Curly']\n",
    "score = [1,6,2,8,2,9,4,5,1,5,2,8]\n",
    "\n",
    "data = [dict(\n",
    "  type = 'scatter',\n",
    "  x = subject,\n",
    "  y = score,\n",
    "  mode = 'markers',\n",
    "  transforms = [dict(\n",
    "    type = 'groupby',\n",
    "    groups = subject,\n",
    "    styles = [\n",
    "        dict(target = 'Moe', value = dict(marker = dict(color = 'blue'))),\n",
    "        dict(target = 'Larry', value = dict(marker = dict(color = 'red'))),\n",
    "        dict(target = 'Curly', value = dict(marker = dict(color = 'black')))\n",
    "    ]\n",
    "  )]\n",
    ")]\n",
    "\n",
    "fig_dict = dict(data=data)\n",
    "pio.show(fig_dict, validate=False)"
   ]
  },
  {
   "cell_type": "code",
   "execution_count": null,
   "id": "8ba2c92b",
   "metadata": {},
   "outputs": [],
   "source": [
    "# matrix array"
   ]
  },
  {
   "cell_type": "code",
   "execution_count": null,
   "id": "ace367df",
   "metadata": {},
   "outputs": [],
   "source": [
    "A = [[1, 4, 5, 12], \n",
    "    [-5, 8, 9, 0],\n",
    "    [-6, 7, 11, 19]]\n",
    "\n",
    "print(\"A =\", A) \n",
    "print(\"A[1] =\", A[1])      # 2nd row\n",
    "print(\"A[1][2] =\", A[1][2])   # 3rd element of 2nd row\n",
    "print(\"A[0][-1] =\", A[0][-1])   # Last element of 1st Row\n",
    "\n",
    "column = [];        # empty list\n",
    "for row in A:\n",
    "  column.append(row[2])   \n",
    "\n",
    "print(\"3rd column =\", column)"
   ]
  },
  {
   "cell_type": "code",
   "execution_count": null,
   "id": "cbb90186",
   "metadata": {},
   "outputs": [],
   "source": []
  },
  {
   "cell_type": "code",
   "execution_count": null,
   "id": "cdb33d99",
   "metadata": {},
   "outputs": [],
   "source": []
  },
  {
   "cell_type": "code",
   "execution_count": null,
   "id": "ace3b2d5",
   "metadata": {},
   "outputs": [],
   "source": []
  }
 ],
 "metadata": {
  "kernelspec": {
   "display_name": "Python 3 (ipykernel)",
   "language": "python",
   "name": "python3"
  },
  "language_info": {
   "codemirror_mode": {
    "name": "ipython",
    "version": 3
   },
   "file_extension": ".py",
   "mimetype": "text/x-python",
   "name": "python",
   "nbconvert_exporter": "python",
   "pygments_lexer": "ipython3",
   "version": "3.9.13"
  }
 },
 "nbformat": 4,
 "nbformat_minor": 5
}

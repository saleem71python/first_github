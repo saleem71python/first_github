{
 "cells": [
  {
   "cell_type": "markdown",
   "id": "f569f2ae",
   "metadata": {},
   "source": [
    "# python kachilla with chilla wuith baba ammaar\n",
    "## how to use juyter notebook\n",
    "### Basics of python\n",
    "**01- my first programe**\n"
   ]
  },
  {
   "cell_type": "code",
   "execution_count": 1,
   "id": "7c0d2125",
   "metadata": {},
   "outputs": [
    {
     "name": "stdout",
     "output_type": "stream",
     "text": [
      "10\n"
     ]
    }
   ],
   "source": [
    "\n",
    "print(2+8)\n"
   ]
  },
  {
   "cell_type": "code",
   "execution_count": 2,
   "id": "2bbc744a",
   "metadata": {
    "scrolled": true
   },
   "outputs": [
    {
     "name": "stdout",
     "output_type": "stream",
     "text": [
      "hello my my IT world\n",
      "I am learing python language with baba ammaar\n"
     ]
    }
   ],
   "source": [
    "print(\"hello my my IT world\")\n",
    "print(\"I am learing python language with baba ammaar\")\n"
   ]
  },
  {
   "cell_type": "markdown",
   "id": "a82a3365",
   "metadata": {},
   "source": [
    "**02-operators**"
   ]
  },
  {
   "cell_type": "code",
   "execution_count": 3,
   "id": "0e33315f",
   "metadata": {},
   "outputs": [
    {
     "name": "stdout",
     "output_type": "stream",
     "text": [
      "13\n",
      "4\n",
      "20\n",
      "5.0\n",
      "10.0\n",
      "20\n",
      "1\n",
      "4249.5\n",
      "781.0\n"
     ]
    }
   ],
   "source": [
    "print(8+5)\n",
    "print(9-5)\n",
    "print(5*4)\n",
    "print(10/2)\n",
    "print(20/2)\n",
    "print(40//2)\n",
    "print(19%2)\n",
    "print(3**5/2*7*5-3)\n",
    "print(8**3/2*3+25-12)\n"
   ]
  },
  {
   "cell_type": "markdown",
   "id": "eec08c1b",
   "metadata": {},
   "source": [
    "*PEMDAS\n",
    "parenthesis exponents multiply division addition subtraction#left to right sequence M D & A S*\n",
    "\n"
   ]
  },
  {
   "cell_type": "markdown",
   "id": "9b97c461",
   "metadata": {},
   "source": [
    "**03-strings**\n"
   ]
  },
  {
   "cell_type": "code",
   "execution_count": 4,
   "id": "58103850",
   "metadata": {},
   "outputs": [
    {
     "name": "stdout",
     "output_type": "stream",
     "text": [
      "hello my world\n",
      "we are learning python language with baba ammaar\n",
      "I am happy to start learning python\n",
      "I like chicken palaoo,biryani and sweets\n",
      "I am glad to be here with baba ammaar\n"
     ]
    }
   ],
   "source": [
    "print(\"hello my world\")\n",
    "print(\"we are learning python language with baba ammaar\")\n",
    "print ('I am happy to start learning python')\n",
    "print(\"I like chicken palaoo,biryani and sweets\")\n",
    "print(\"\"\"I am glad to be here with baba ammaar\"\"\")"
   ]
  },
  {
   "cell_type": "markdown",
   "id": "b32c4011",
   "metadata": {},
   "source": [
    "**04-comments**\n"
   ]
  },
  {
   "cell_type": "code",
   "execution_count": 5,
   "id": "7d5f7007",
   "metadata": {},
   "outputs": [
    {
     "name": "stdout",
     "output_type": "stream",
     "text": [
      "hello my world\n",
      "we are learning python language with baba ammaar\n",
      "I am happy to start learning python\n",
      "I like chicken palaoo,biryani and sweets\n",
      "I am glad to be here with baba ammaar\n",
      "13\n"
     ]
    }
   ],
   "source": [
    "print(\"hello my world\") #press these to comment out ctrl+/\n",
    "print(\"we are learning python language with baba ammaar\") # print a string\n",
    "\n",
    "\n",
    "print ('I am happy to start learning python')\n",
    "\n",
    "print(\"I like chicken palaoo,biryani and sweets\")\n",
    "print(\"\"\"I am glad to be here with baba ammaar\"\"\")  \n",
    "                                                    # comments out ctrl+/\n",
    "print(8+5)"
   ]
  },
  {
   "cell_type": "markdown",
   "id": "245a8df2",
   "metadata": {},
   "source": [
    "**05-variables**"
   ]
  },
  {
   "cell_type": "code",
   "execution_count": 6,
   "id": "9447c0ca",
   "metadata": {},
   "outputs": [
    {
     "name": "stdout",
     "output_type": "stream",
     "text": [
      "8\n",
      "56\n",
      "i am learning python with ammaar\n",
      "<class 'int'>\n",
      "<class 'str'>\n",
      "8\n",
      "mangoes,oranges\n",
      "<class 'str'>\n",
      "watermelon,banana,apple,grapes\n"
     ]
    }
   ],
   "source": [
    "# variables: objects containing spesific values\n",
    "x=8 # numeric or integer variable \n",
    "print(x)\n",
    "z=56\n",
    "print(z)\n",
    "y=\"i am learning python with ammaar\"  #string variable\n",
    "print(y)\n",
    "#types/class of variables\n",
    "print(type(x))\n",
    "print(type(y))  #print_type_class\n",
    "# Rules to assign a variable:\n",
    "# 1-The variable should contain letters, numbers or underscores\n",
    "# 2-Do not start with numbers\n",
    "# 3-spaces are not allowed\n",
    "# 4-Do not use keywords used in functions (braek,mean,median,test etc)\n",
    "# 5-Short and descriptive\n",
    "# 6-Case senstivity(lower case,upper case letters should be used)\n",
    "# 7- Lower csae use is prefferable \n",
    "\n",
    "fruit_basket=8\n",
    "print(fruit_basket)\n",
    "\n",
    "fruit_basket=(\"mangoes,oranges\")\n",
    "print(fruit_basket)\n",
    "print(type(fruit_basket))\n",
    "\n",
    "fruit_basket=(\"watermelon,banana,apple,grapes\") \n",
    "print(fruit_basket)"
   ]
  },
  {
   "cell_type": "markdown",
   "id": "1a362243",
   "metadata": {},
   "source": [
    "**06-input variables**"
   ]
  },
  {
   "cell_type": "code",
   "execution_count": 15,
   "id": "55a175ab",
   "metadata": {},
   "outputs": [
    {
     "name": "stdout",
     "output_type": "stream",
     "text": [
      "what is your name? saleem\n",
      "hello! saleem\n",
      "what is your name?  saleem\n",
      "how old are you?  50\n",
      "hello saleem you are still young\n"
     ]
    }
   ],
   "source": [
    "# fruit_basket=\"mangoes\"\n",
    "# print(fruit_basket)\n",
    "\n",
    "# # # #input function\n",
    "# fruit_basket=input(\"what is your favourite fruits? \")\n",
    "# print(fruit_basket)\n",
    "\n",
    "# # #another way stage 2 function \n",
    "name=input(\"what is your name? \")\n",
    "greetings=\"hello\"\n",
    "print(\"hello!\",  name)\n",
    "\n",
    "# # 3rd stage imput function\n",
    "\n",
    "name=input(\"what is your name?  \")\n",
    "age=input(\"how old are you?  \")\n",
    "greetings=\"hello\"\n",
    "print(greetings, name , \"you are still young\")\n"
   ]
  },
  {
   "cell_type": "markdown",
   "id": "997e1327",
   "metadata": {},
   "source": [
    "**07-logical operators**"
   ]
  },
  {
   "cell_type": "code",
   "execution_count": 8,
   "id": "32edb731",
   "metadata": {},
   "outputs": [
    {
     "name": "stdout",
     "output_type": "stream",
     "text": [
      "how old is hammad?  5\n",
      "<class 'int'>\n",
      "True\n"
     ]
    }
   ],
   "source": [
    "# logical_operators\n",
    "# equal to                    ==\n",
    "# not equal to                != \n",
    "# less than                   <\n",
    "# greator than                >\n",
    "# less than and equal to      <=\n",
    "# greator than and equal to   >=\n",
    "\n",
    "# print(8==8)\n",
    "# print(7<9)\n",
    "# print(10>5)\n",
    "# print(12>15)\n",
    "# print(5<=6)\n",
    "# print(3<=1)\n",
    "# print(10>=6)\n",
    "\n",
    "# application of logical operators\n",
    "\n",
    "# hammad_age=4\n",
    "# age_at_school=5\n",
    "# print(hammad_age==age_at_school)\n",
    "\n",
    "# input function and logical operator\n",
    "  \n",
    "age_at_school=5\n",
    "hammad_age=input(\"how old is hammad?  \") #input function\n",
    "hammad_age=int(hammad_age)\n",
    "print(type(hammad_age))\n",
    "print(hammad_age==age_at_school) #logical operator\n"
   ]
  },
  {
   "cell_type": "markdown",
   "id": "b3985cf8",
   "metadata": {},
   "source": [
    "** 08-types of conversion**"
   ]
  },
  {
   "cell_type": "code",
   "execution_count": 9,
   "id": "9129cfef",
   "metadata": {},
   "outputs": [
    {
     "name": "stdout",
     "output_type": "stream",
     "text": [
      "what is your name? saleem\n",
      "saleem <class 'str'>\n"
     ]
    }
   ],
   "source": [
    "#type_ conversion\n",
    "# x=10         #integer\n",
    "# y=10.2       #float        \n",
    "# z=\"hello\"    #string\n",
    "\n",
    "# #implicit type conversion\n",
    "# x=x*y\n",
    "# print(x,\"type of x is: \" ,type(x))\n",
    "\n",
    "# #explicit coversion\n",
    "\n",
    "# age=input(\"what is your age?  \") \n",
    "# # age=(int(age))\n",
    "# print(age, type(int (age)))\n",
    "\n",
    "# age=input(\"what is your age?  \") \n",
    "# # age=(int(age))\n",
    "# print(age, type(float (age)))\n",
    "#name\n",
    "name=input(\"what is your name? \")\n",
    "print(name, type(str(name)))\n",
    "\n"
   ]
  },
  {
   "cell_type": "markdown",
   "id": "65e95212",
   "metadata": {},
   "source": [
    "**09-if_else_elif**"
   ]
  },
  {
   "cell_type": "code",
   "execution_count": 10,
   "id": "45f2ffbf",
   "metadata": {},
   "outputs": [
    {
     "name": "stdout",
     "output_type": "stream",
     "text": [
      "you should care of hammad, he is still a baby\n"
     ]
    }
   ],
   "source": [
    "#if_els_elif statement\n",
    "\n",
    "#can hammad go to school\n",
    "required_age_at_school=5\n",
    "hammad_age=2\n",
    "if hammad_age==required_age_at_school:\n",
    " print(\"congrations!,hammad can join the school\")\n",
    "elif hammad_age>required_age_at_school:\n",
    "     print(\"hammad should join higher secondary\")\n",
    "elif hammad_age<=2:\n",
    "     print(\"you should care of hammad, he is still a baby\")     \n",
    "else: \n",
    " print(\"hammad can not go school\")\n"
   ]
  },
  {
   "cell_type": "markdown",
   "id": "741609e7",
   "metadata": {},
   "source": [
    "**10- functions**"
   ]
  },
  {
   "cell_type": "code",
   "execution_count": 11,
   "id": "10477044",
   "metadata": {},
   "outputs": [
    {
     "name": "stdout",
     "output_type": "stream",
     "text": [
      "28\n"
     ]
    }
   ],
   "source": [
    "# defining a function\n",
    "\n",
    "# def print_codanics():\n",
    "#     print(\"we are learning python with ammaar\")\n",
    "#     print(\"we are learning python with ammaar\")\n",
    "#     print(\"we are learning python with ammaar\")\n",
    "#     print(\"we are learning python with ammaar\")\n",
    "\n",
    "# print_codanics()\n",
    "  \n",
    "#2 way\n",
    "\n",
    "# def print_codanics():\n",
    "#     text=\"I am learning python with baba ammaar\"\n",
    "    \n",
    "#     print(text)\n",
    "#     print(text)\n",
    "#     print(text)\n",
    "\n",
    "# print_codanics()\n",
    "\n",
    "# #3 way\n",
    "# def print_codanics(text):\n",
    "#     print(text)\n",
    "#     print(text)\n",
    "#     print(text)\n",
    "\n",
    "# print_codanics(\"we are learning python baba ammaar on you tube channel\") \n",
    "   \n",
    "\n",
    "# defining a function with if,elf and else\n",
    "\n",
    "# def school_calculator(age):\n",
    "#     if age==5:\n",
    "#         print(\"hassan can join the school\")\n",
    "#     elif age>5:\n",
    "#         print(\"hassan should go to higher school\")\n",
    "#     else:\n",
    "#         print(\" hassan is still a baby\")\n",
    "# school_calculator(2)\n",
    "\n",
    "#defining a function of future\n",
    "\n",
    "def future_age(age):\n",
    "    new_age=age+20\n",
    "    return new_age\n",
    "    print(new_age)\n",
    "\n",
    "future_predicted_age=future_age(8)   \n",
    "print(future_predicted_age)\n"
   ]
  },
  {
   "cell_type": "markdown",
   "id": "29e2ac28",
   "metadata": {},
   "source": [
    "**11-loops**"
   ]
  },
  {
   "cell_type": "code",
   "execution_count": 12,
   "id": "44a0fcdf",
   "metadata": {},
   "outputs": [
    {
     "name": "stdout",
     "output_type": "stream",
     "text": [
      "mon\n",
      "tue\n",
      "wed\n",
      "thu\n",
      "sat\n",
      "sun\n"
     ]
    }
   ],
   "source": [
    "# Types of loops\n",
    "# 1-while loops\n",
    "# 2-for loops\n",
    "\n",
    "# x=0\n",
    "# while (x<=5):\n",
    "#     print(x)\n",
    "#     x=x+1\n",
    "\n",
    " #for loop\n",
    "\n",
    "# for x in range(3,16):\n",
    "#     print(x)\n",
    "    \n",
    " # array\n",
    "# days= [\"mon\",\"tue\",\"wed\",\"thu\",\"fri\",\"sat\",\"sun\"]   \n",
    "\n",
    "# for d in days:\n",
    "#     if (d==\"fri\"):break #loop stop\n",
    "\n",
    "#     print(d)\n",
    "\n",
    "days= [\"mon\",\"tue\",\"wed\",\"thu\",\"fri\",\"sat\",\"sun\"]   \n",
    "\n",
    "for d in days:\n",
    "    if (d==\"fri\"):continue # skip d\n",
    "\n",
    "    print(d)\n"
   ]
  },
  {
   "cell_type": "markdown",
   "id": "ecfbbea2",
   "metadata": {},
   "source": [
    "** 12-import libraries**"
   ]
  },
  {
   "cell_type": "code",
   "execution_count": 13,
   "id": "07bd5bb6",
   "metadata": {},
   "outputs": [
    {
     "name": "stdout",
     "output_type": "stream",
     "text": [
      "the value of pi is   3.141592653589793\n",
      "the mean of this array is  300\n"
     ]
    }
   ],
   "source": [
    "#import library\n",
    "#f you want print the value if pi\n",
    "\n",
    "import math \n",
    "print(\"the value of pi is  \", math.pi)\n",
    "\n",
    "import statistics\n",
    "\n",
    "x=[150,250,350,450]\n",
    "print(\"the mean of this array is \",statistics.mean(x))\n"
   ]
  },
  {
   "cell_type": "markdown",
   "id": "56fdf661",
   "metadata": {},
   "source": [
    "**-13-trouble shooting**"
   ]
  },
  {
   "cell_type": "code",
   "execution_count": 14,
   "id": "19e45f8e",
   "metadata": {},
   "outputs": [
    {
     "ename": "NameError",
     "evalue": "name 'ammaar' is not defined",
     "output_type": "error",
     "traceback": [
      "\u001b[1;31m---------------------------------------------------------------------------\u001b[0m",
      "\u001b[1;31mNameError\u001b[0m                                 Traceback (most recent call last)",
      "\u001b[1;32m~\\AppData\\Local\\Temp\\ipykernel_4520\\2085139906.py\u001b[0m in \u001b[0;36m<module>\u001b[1;34m\u001b[0m\n\u001b[0;32m      6\u001b[0m \u001b[1;33m\u001b[0m\u001b[0m\n\u001b[0;32m      7\u001b[0m \u001b[0mname\u001b[0m\u001b[1;33m=\u001b[0m\u001b[1;34m\"ammaar\"\u001b[0m\u001b[1;33m\u001b[0m\u001b[1;33m\u001b[0m\u001b[0m\n\u001b[1;32m----> 8\u001b[1;33m \u001b[0mprint\u001b[0m\u001b[1;33m(\u001b[0m\u001b[1;34m\"hello\"\u001b[0m\u001b[1;33m,\u001b[0m\u001b[0mammaar\u001b[0m\u001b[1;33m)\u001b[0m\u001b[1;33m\u001b[0m\u001b[1;33m\u001b[0m\u001b[0m\n\u001b[0m",
      "\u001b[1;31mNameError\u001b[0m: name 'ammaar' is not defined"
     ]
    }
   ],
   "source": [
    "# trouble_shooting\n",
    "\n",
    "#print(\"we are learning python with ammaar\") #syntaxError\n",
    "\n",
    "#print(25/0) # zero division error or runtime error\n",
    "\n",
    "name=\"ammaar\"\n",
    "print(\"hello\",ammaar) \n"
   ]
  }
 ],
 "metadata": {
  "kernelspec": {
   "display_name": "Python 3 (ipykernel)",
   "language": "python",
   "name": "python3"
  },
  "language_info": {
   "codemirror_mode": {
    "name": "ipython",
    "version": 3
   },
   "file_extension": ".py",
   "mimetype": "text/x-python",
   "name": "python",
   "nbconvert_exporter": "python",
   "pygments_lexer": "ipython3",
   "version": "3.9.13"
  }
 },
 "nbformat": 4,
 "nbformat_minor": 5
}
